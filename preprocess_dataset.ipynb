{
 "cells": [
  {
   "cell_type": "code",
   "execution_count": 19,
   "id": "8e833016",
   "metadata": {},
   "outputs": [],
   "source": [
    "import pandas as pd\n",
    "from sklearn.preprocessing import StandardScaler\n",
    "from sklearn.preprocessing import Normalizer\n",
    "import numpy as np\n",
    "from sklearn.preprocessing import LabelEncoder"
   ]
  },
  {
   "cell_type": "code",
   "execution_count": 20,
   "id": "3b3731b9",
   "metadata": {},
   "outputs": [
    {
     "name": "stdout",
     "output_type": "stream",
     "text": [
      "<class 'pandas.core.frame.DataFrame'>\n",
      "RangeIndex: 256334 entries, 0 to 256333\n",
      "Data columns (total 32 columns):\n",
      " #   Column                  Non-Null Count   Dtype  \n",
      "---  ------                  --------------   -----  \n",
      " 0   payerAccountNumber      256294 non-null  float64\n",
      " 1   payerIdTransformed      256334 non-null  int64  \n",
      " 2   payeeIdTransformed      256334 non-null  int64  \n",
      " 3   originalAmount          256334 non-null  float64\n",
      " 4   createdAt               256334 non-null  object \n",
      " 5   transaction_date        256334 non-null  object \n",
      " 6   transaction_time        256334 non-null  object \n",
      " 7   issuer_bank             256334 non-null  object \n",
      " 8   ip_address              256334 non-null  object \n",
      " 9   browser                 256334 non-null  object \n",
      " 10  funding_method          256334 non-null  int64  \n",
      " 11  secure_3ds              256334 non-null  int64  \n",
      " 12  success_3ds             256334 non-null  int64  \n",
      " 13  status                  256334 non-null  int64  \n",
      " 14  type                    256334 non-null  int64  \n",
      " 15  currency                256334 non-null  int64  \n",
      " 16  amount_high             256334 non-null  int64  \n",
      " 17  bank_approved           256334 non-null  int64  \n",
      " 18  bank_err                256334 non-null  int64  \n",
      " 19  bank_invalid_card       256334 non-null  int64  \n",
      " 20  bank_insufficient_fund  256334 non-null  int64  \n",
      " 21  bank_do_not_honor       256334 non-null  int64  \n",
      " 22  bank_lost_card          256334 non-null  int64  \n",
      " 23  channel_visa            256334 non-null  int64  \n",
      " 24  channel_master          256334 non-null  int64  \n",
      " 25  channel_amex            256334 non-null  int64  \n",
      " 26  initialized_api         256334 non-null  int64  \n",
      " 27  initialized_session     256334 non-null  int64  \n",
      " 28  initialized_plugin      256334 non-null  int64  \n",
      " 29  initialized_ext_api     256334 non-null  int64  \n",
      " 30  initialized_ipg         256334 non-null  int64  \n",
      " 31  is_fraud                256334 non-null  int64  \n",
      "dtypes: float64(2), int64(24), object(6)\n",
      "memory usage: 62.6+ MB\n"
     ]
    }
   ],
   "source": [
    "df = pd.read_csv('transaction.csv',delimiter=\",\")\n",
    "df.head()\n",
    "df.info()"
   ]
  },
  {
   "cell_type": "code",
   "execution_count": 21,
   "id": "8cbcf172",
   "metadata": {},
   "outputs": [],
   "source": [
    "class MultiColumnLabelEncoder:\n",
    "    def __init__(self,columns = None):\n",
    "        self.columns = columns # array of column names to encode\n",
    "\n",
    "    def fit(self,X,y=None):\n",
    "        return self # not relevant here\n",
    "\n",
    "    def transform(self,X):\n",
    "        '''\n",
    "        Transforms columns of X specified in self.columns using\n",
    "        LabelEncoder(). If no columns specified, transforms all\n",
    "        columns in X.\n",
    "        '''\n",
    "        output = X.copy()\n",
    "        if self.columns is not None:\n",
    "            for col in self.columns:\n",
    "                output[col] = LabelEncoder().fit_transform(output[col])\n",
    "        else:\n",
    "            for colname,col in output.iteritems():\n",
    "                output[colname] = LabelEncoder().fit_transform(col)\n",
    "        return output\n",
    "\n",
    "    def fit_transform(self,X,y=None):\n",
    "        return self.fit(X,y).transform(X)"
   ]
  },
  {
   "cell_type": "code",
   "execution_count": 22,
   "id": "e1836968",
   "metadata": {},
   "outputs": [],
   "source": [
    "df = MultiColumnLabelEncoder(columns = ['issuer_bank','ip_address','browser']).fit_transform(df)"
   ]
  },
  {
   "cell_type": "code",
   "execution_count": 23,
   "id": "54aa54ce",
   "metadata": {},
   "outputs": [],
   "source": [
    "df.to_csv('transaction_preprocess.csv')"
   ]
  },
  {
   "cell_type": "code",
   "execution_count": 13,
   "id": "26d336b9",
   "metadata": {},
   "outputs": [
    {
     "name": "stdout",
     "output_type": "stream",
     "text": [
      "<class 'pandas.core.frame.DataFrame'>\n",
      "RangeIndex: 256334 entries, 0 to 256333\n",
      "Data columns (total 30 columns):\n",
      " #   Column                  Non-Null Count   Dtype  \n",
      "---  ------                  --------------   -----  \n",
      " 0   payerAccountNumber      256294 non-null  float64\n",
      " 1   payerIdTransformed      256334 non-null  float64\n",
      " 2   payeeIdTransformed      256334 non-null  float64\n",
      " 3   originalAmount          256334 non-null  float64\n",
      " 4   createdAt               256334 non-null  object \n",
      " 5   issuer_bank             256334 non-null  float64\n",
      " 6   ip_address              256334 non-null  float64\n",
      " 7   browser                 256334 non-null  float64\n",
      " 8   funding_method          256334 non-null  int64  \n",
      " 9   secure_3ds              256334 non-null  int64  \n",
      " 10  success_3ds             256334 non-null  int64  \n",
      " 11  status                  256334 non-null  int64  \n",
      " 12  type                    256334 non-null  int64  \n",
      " 13  currency                256334 non-null  int64  \n",
      " 14  amount_high             256334 non-null  int64  \n",
      " 15  bank_approved           256334 non-null  int64  \n",
      " 16  bank_err                256334 non-null  int64  \n",
      " 17  bank_invalid_card       256334 non-null  int64  \n",
      " 18  bank_insufficient_fund  256334 non-null  int64  \n",
      " 19  bank_do_not_honor       256334 non-null  int64  \n",
      " 20  bank_lost_card          256334 non-null  int64  \n",
      " 21  channel_visa            256334 non-null  int64  \n",
      " 22  channel_master          256334 non-null  int64  \n",
      " 23  channel_amex            256334 non-null  int64  \n",
      " 24  initialized_api         256334 non-null  int64  \n",
      " 25  initialized_session     256334 non-null  int64  \n",
      " 26  initialized_plugin      256334 non-null  int64  \n",
      " 27  initialized_ext_api     256334 non-null  int64  \n",
      " 28  initialized_ipg         256334 non-null  int64  \n",
      " 29  is_fraud                256334 non-null  int64  \n",
      "dtypes: float64(7), int64(22), object(1)\n",
      "memory usage: 58.7+ MB\n"
     ]
    }
   ],
   "source": [
    "con_vars = ['payerAccountNumber','payerIdTransformed', 'payeeIdTransformed',\n",
    "           'issuer_bank','ip_address','browser']\n",
    "scaler = StandardScaler()\n",
    "df[con_vars]=scaler.fit_transform(df[con_vars])\n",
    "df[con_vars]  =round(df[con_vars],10)\n",
    "df.to_csv('standerdize.csv',index=False)\n",
    "df.info()"
   ]
  },
  {
   "cell_type": "code",
   "execution_count": null,
   "id": "de468b0f",
   "metadata": {},
   "outputs": [],
   "source": []
  }
 ],
 "metadata": {
  "kernelspec": {
   "display_name": "Python 3",
   "language": "python",
   "name": "python3"
  },
  "language_info": {
   "codemirror_mode": {
    "name": "ipython",
    "version": 3
   },
   "file_extension": ".py",
   "mimetype": "text/x-python",
   "name": "python",
   "nbconvert_exporter": "python",
   "pygments_lexer": "ipython3",
   "version": "3.9.4"
  }
 },
 "nbformat": 4,
 "nbformat_minor": 5
}
