{
 "cells": [
  {
   "cell_type": "code",
   "execution_count": 1,
   "id": "a4c2eabb",
   "metadata": {},
   "outputs": [],
   "source": [
    "import pandas as pd\n",
    "from datetime import timedelta\n",
    "import matplotlib.pyplot as plt\n",
    "import squarify\n",
    "import seaborn as sns\n",
    "from sklearn.preprocessing import StandardScaler"
   ]
  },
  {
   "cell_type": "code",
   "execution_count": 2,
   "id": "2a5ed538",
   "metadata": {},
   "outputs": [],
   "source": [
    "df = pd.read_csv('transaction.csv', encoding = \"ISO-8859-1\")\n",
    "# Convert InvoiceDate from object to datetime format\n",
    "df['createdAt'] = pd.to_datetime(df['createdAt'])"
   ]
  },
  {
   "cell_type": "code",
   "execution_count": 3,
   "id": "0c9073b7",
   "metadata": {},
   "outputs": [
    {
     "name": "stdout",
     "output_type": "stream",
     "text": [
      "2021-04-27 14:26:05\n"
     ]
    }
   ],
   "source": [
    "#get the snpshot of date \n",
    "snapshot_date = df['createdAt'].max() + timedelta(days=1)\n",
    "print(snapshot_date)"
   ]
  },
  {
   "cell_type": "code",
   "execution_count": 4,
   "id": "3f9ad11b",
   "metadata": {},
   "outputs": [],
   "source": [
    "data_process = df.groupby(['payerIdTransformed'], as_index=False).agg({\n",
    "        'createdAt': lambda x: (snapshot_date - x.max()).days,\n",
    "        'payerAccountNumber': 'count',\n",
    "        'originalAmount':'sum',\n",
    "        'bank_approved':'sum',\n",
    "        'bank_err':'sum',\n",
    "        'bank_invalid_card':'sum',\n",
    "        'bank_insufficient_fund':'sum',\n",
    "        'bank_do_not_honor':'sum',\n",
    "        'bank_lost_card':'sum',\n",
    "        'amount_high':'sum',\n",
    "        'is_fraud':'sum',\n",
    "        'channel_master':'sum',\n",
    "        'channel_visa':'sum',\n",
    "        'channel_amex':'sum'\n",
    "    \n",
    "})"
   ]
  },
  {
   "cell_type": "code",
   "execution_count": 5,
   "id": "749fe58d",
   "metadata": {},
   "outputs": [],
   "source": [
    "data_process.rename(columns={'createdAt': 'recency',\n",
    "                         'payerAccountNumber': 'frequency',\n",
    "                         'originalAmount': 'total_value',\n",
    "                           'bank_approved': 'tot_bank_approves',\n",
    "                            'bank_err': 'tot_bank_err',\n",
    "                            'bank_invalid_card':'tot_invalid_card',\n",
    "                            'bank_insufficient_fund':'tot_insufficient_fund',\n",
    "                            'bank_do_not_honor':'tot_bank_do_not_honor',\n",
    "                            'bank_lost_card':'tot_bank_lost_card',\n",
    "                            'amount_high':'tot_amount_high',\n",
    "                            'is_fraud':'tot_fraud_count',\n",
    "                            'channel_master':'tot_channel_master',\n",
    "                            'channel_visa':'tot_channel_visa',\n",
    "                            'channel_amex':'tot_channel_amex'}, inplace=True)"
   ]
  },
  {
   "cell_type": "code",
   "execution_count": 6,
   "id": "22a0ac69",
   "metadata": {},
   "outputs": [
    {
     "data": {
      "text/html": [
       "<div>\n",
       "<style scoped>\n",
       "    .dataframe tbody tr th:only-of-type {\n",
       "        vertical-align: middle;\n",
       "    }\n",
       "\n",
       "    .dataframe tbody tr th {\n",
       "        vertical-align: top;\n",
       "    }\n",
       "\n",
       "    .dataframe thead th {\n",
       "        text-align: right;\n",
       "    }\n",
       "</style>\n",
       "<table border=\"1\" class=\"dataframe\">\n",
       "  <thead>\n",
       "    <tr style=\"text-align: right;\">\n",
       "      <th></th>\n",
       "      <th>payerIdTransformed</th>\n",
       "      <th>recency</th>\n",
       "      <th>frequency</th>\n",
       "      <th>total_value</th>\n",
       "      <th>tot_bank_approves</th>\n",
       "      <th>tot_bank_err</th>\n",
       "      <th>tot_invalid_card</th>\n",
       "      <th>tot_insufficient_fund</th>\n",
       "      <th>tot_bank_do_not_honor</th>\n",
       "      <th>tot_bank_lost_card</th>\n",
       "      <th>tot_amount_high</th>\n",
       "      <th>tot_fraud_count</th>\n",
       "      <th>tot_channel_master</th>\n",
       "      <th>tot_channel_visa</th>\n",
       "      <th>tot_channel_amex</th>\n",
       "    </tr>\n",
       "  </thead>\n",
       "  <tbody>\n",
       "    <tr>\n",
       "      <th>0</th>\n",
       "      <td>170</td>\n",
       "      <td>124</td>\n",
       "      <td>40</td>\n",
       "      <td>214153.0</td>\n",
       "      <td>18</td>\n",
       "      <td>0</td>\n",
       "      <td>4</td>\n",
       "      <td>2</td>\n",
       "      <td>16</td>\n",
       "      <td>0</td>\n",
       "      <td>4</td>\n",
       "      <td>36</td>\n",
       "      <td>40</td>\n",
       "      <td>0</td>\n",
       "      <td>0</td>\n",
       "    </tr>\n",
       "    <tr>\n",
       "      <th>1</th>\n",
       "      <td>171</td>\n",
       "      <td>235</td>\n",
       "      <td>9</td>\n",
       "      <td>591.0</td>\n",
       "      <td>4</td>\n",
       "      <td>0</td>\n",
       "      <td>0</td>\n",
       "      <td>0</td>\n",
       "      <td>5</td>\n",
       "      <td>0</td>\n",
       "      <td>0</td>\n",
       "      <td>9</td>\n",
       "      <td>9</td>\n",
       "      <td>0</td>\n",
       "      <td>0</td>\n",
       "    </tr>\n",
       "    <tr>\n",
       "      <th>2</th>\n",
       "      <td>172</td>\n",
       "      <td>258</td>\n",
       "      <td>12</td>\n",
       "      <td>1316.0</td>\n",
       "      <td>1</td>\n",
       "      <td>0</td>\n",
       "      <td>0</td>\n",
       "      <td>0</td>\n",
       "      <td>11</td>\n",
       "      <td>0</td>\n",
       "      <td>0</td>\n",
       "      <td>12</td>\n",
       "      <td>12</td>\n",
       "      <td>0</td>\n",
       "      <td>0</td>\n",
       "    </tr>\n",
       "    <tr>\n",
       "      <th>3</th>\n",
       "      <td>173</td>\n",
       "      <td>255</td>\n",
       "      <td>9</td>\n",
       "      <td>180.0</td>\n",
       "      <td>7</td>\n",
       "      <td>0</td>\n",
       "      <td>0</td>\n",
       "      <td>0</td>\n",
       "      <td>2</td>\n",
       "      <td>0</td>\n",
       "      <td>0</td>\n",
       "      <td>9</td>\n",
       "      <td>9</td>\n",
       "      <td>0</td>\n",
       "      <td>0</td>\n",
       "    </tr>\n",
       "    <tr>\n",
       "      <th>4</th>\n",
       "      <td>174</td>\n",
       "      <td>126</td>\n",
       "      <td>11</td>\n",
       "      <td>221198.0</td>\n",
       "      <td>0</td>\n",
       "      <td>0</td>\n",
       "      <td>3</td>\n",
       "      <td>1</td>\n",
       "      <td>7</td>\n",
       "      <td>0</td>\n",
       "      <td>4</td>\n",
       "      <td>8</td>\n",
       "      <td>11</td>\n",
       "      <td>0</td>\n",
       "      <td>0</td>\n",
       "    </tr>\n",
       "  </tbody>\n",
       "</table>\n",
       "</div>"
      ],
      "text/plain": [
       "   payerIdTransformed  recency  frequency  total_value  tot_bank_approves  \\\n",
       "0                 170      124         40     214153.0                 18   \n",
       "1                 171      235          9        591.0                  4   \n",
       "2                 172      258         12       1316.0                  1   \n",
       "3                 173      255          9        180.0                  7   \n",
       "4                 174      126         11     221198.0                  0   \n",
       "\n",
       "   tot_bank_err  tot_invalid_card  tot_insufficient_fund  \\\n",
       "0             0                 4                      2   \n",
       "1             0                 0                      0   \n",
       "2             0                 0                      0   \n",
       "3             0                 0                      0   \n",
       "4             0                 3                      1   \n",
       "\n",
       "   tot_bank_do_not_honor  tot_bank_lost_card  tot_amount_high  \\\n",
       "0                     16                   0                4   \n",
       "1                      5                   0                0   \n",
       "2                     11                   0                0   \n",
       "3                      2                   0                0   \n",
       "4                      7                   0                4   \n",
       "\n",
       "   tot_fraud_count  tot_channel_master  tot_channel_visa  tot_channel_amex  \n",
       "0               36                  40                 0                 0  \n",
       "1                9                   9                 0                 0  \n",
       "2               12                  12                 0                 0  \n",
       "3                9                   9                 0                 0  \n",
       "4                8                  11                 0                 0  "
      ]
     },
     "execution_count": 6,
     "metadata": {},
     "output_type": "execute_result"
    }
   ],
   "source": [
    "data_process.head()"
   ]
  },
  {
   "cell_type": "code",
   "execution_count": 7,
   "id": "526094f2",
   "metadata": {},
   "outputs": [
    {
     "name": "stdout",
     "output_type": "stream",
     "text": [
      "29,162 rows; 15 columns\n"
     ]
    }
   ],
   "source": [
    "print('{:,} rows; {:,} columns'\n",
    "      .format(data_process.shape[0], data_process.shape[1]))"
   ]
  },
  {
   "cell_type": "code",
   "execution_count": 8,
   "id": "4551cf65",
   "metadata": {},
   "outputs": [
    {
     "data": {
      "image/png": "[encoded data removed]",
      "text/plain": [
       "<Figure size 864x720 with 3 Axes>"
      ]
     },
     "metadata": {
      "needs_background": "light"
     },
     "output_type": "display_data"
    }
   ],
   "source": [
    "plt.figure(figsize=(12,10))\n",
    "# Plot distribution of R\n",
    "plt.subplot(3, 1, 1); sns.histplot(data_process['recency'])\n",
    "\n",
    "# Plot distribution of F\n",
    "plt.subplot(3, 1, 2); sns.histplot(data_process['frequency'])\n",
    "plt.ylim(0, 20000)\n",
    "plt.xlim(0, 80)\n",
    "\n",
    "# Plot distribution of M\n",
    "plt.subplot(3, 1, 3); sns.histplot(data_process['total_value'])\n",
    "plt.ylim(0, 10000)\n",
    "plt.xlim(0, 320000)\n",
    "\n",
    "\n",
    "plt.show()"
   ]
  },
  {
   "cell_type": "code",
   "execution_count": 11,
   "id": "2df18a2a",
   "metadata": {},
   "outputs": [
    {
     "name": "stdout",
     "output_type": "stream",
     "text": [
      "[10  6  7  9  3  8  5 12 11  4]\n"
     ]
    }
   ],
   "source": [
    "# Create labels for Recency and Frequency\n",
    "r_labels = range(4, 0, -1)\n",
    "f_labels = range(1, 5)\n",
    "m_labels = range(1, 5)\n",
    "# Assign these labels to 4 equal percentile groups \n",
    "\n",
    "r_groups = pd.qcut(data_process['recency'], q=4, labels=r_labels)\n",
    "f_groups = pd.qcut(data_process['frequency'], q=4,labels=f_labels, duplicates='drop')\n",
    "\n",
    "\n",
    "# Assign these labels to three equal percentile groups \n",
    "m_groups = pd.qcut(data_process['total_value'], q=4, labels=m_labels)\n",
    "\n",
    "\n",
    "# Create new columns R and F \n",
    "data_process = data_process.assign(R = r_groups.values, F = f_groups.values, M = m_groups.values)\n",
    "data_process['RFM_score'] = data_process[['R','F','M']].sum(axis=1)\n",
    "\n",
    "print(data_process['RFM_score'].unique())"
   ]
  },
  {
   "cell_type": "code",
   "execution_count": 12,
   "id": "f9c2fea2",
   "metadata": {},
   "outputs": [],
   "source": [
    "data_process.to_csv('rfm_features.csv',index=False)"
   ]
  },
  {
   "cell_type": "code",
   "execution_count": null,
   "id": "6a4b8bfd",
   "metadata": {},
   "outputs": [],
   "source": []
  }
 ],
 "metadata": {
  "kernelspec": {
   "display_name": "Python 3",
   "language": "python",
   "name": "python3"
  },
  "language_info": {
   "codemirror_mode": {
    "name": "ipython",
    "version": 3
   },
   "file_extension": ".py",
   "mimetype": "text/x-python",
   "name": "python",
   "nbconvert_exporter": "python",
   "pygments_lexer": "ipython3",
   "version": "3.9.4"
  }
 },
 "nbformat": 4,
 "nbformat_minor": 5
}
