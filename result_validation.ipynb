{
 "cells": [
  {
   "cell_type": "code",
   "execution_count": 15,
   "id": "e97575c4-1612-4cca-ac18-96c77f216e90",
   "metadata": {},
   "outputs": [],
   "source": [
    "import pandas as pd\n",
    "import numpy as np\n",
    "from sklearn.model_selection import KFold, cross_val_score, train_test_split\n",
    "from sklearn.metrics import classification_report,confusion_matrix\n",
    "from sklearn.ensemble import RandomForestClassifier\n",
    "from xgboost import XGBClassifier\n",
    "from sklearn.svm import SVC\n",
    "from imblearn.over_sampling import SMOTE\n",
    "from sklearn.metrics import roc_curve, auc,roc_auc_score\n",
    "import matplotlib.pyplot as plt\n",
    "from datetime import timedelta,datetime\n",
    "import squarify\n",
    "import seaborn as sns\n",
    "from sklearn.preprocessing import StandardScaler\n",
    "from sklearn.metrics import log_loss\n",
    "from random import sample\n",
    "from sklearn.utils import shuffle"
   ]
  },
  {
   "cell_type": "code",
   "execution_count": 16,
   "id": "0f94a48e-3458-43bf-828b-55ab58d393de",
   "metadata": {},
   "outputs": [
    {
     "name": "stdout",
     "output_type": "stream",
     "text": [
      "<class 'pandas.core.frame.DataFrame'>\n",
      "RangeIndex: 256294 entries, 0 to 256293\n",
      "Columns: 138 entries, Unnamed: 0 to final_critical_index\n",
      "dtypes: float64(79), int64(55), object(4)\n",
      "memory usage: 269.8+ MB\n"
     ]
    }
   ],
   "source": [
    "df = pd.read_csv('features_generated_filtered.csv', delimiter=\",\")\n",
    "df.info()"
   ]
  },
  {
   "cell_type": "code",
   "execution_count": 17,
   "id": "ead781e8-d0ac-458e-8a30-222b192589ef",
   "metadata": {},
   "outputs": [
    {
     "name": "stdout",
     "output_type": "stream",
     "text": [
      "1234\n"
     ]
    }
   ],
   "source": [
    "sample_frud = df.sample(n=500)\n",
    "\n",
    "data_set_testing = df[df.is_fraud == 0].sample(frac=0.004)\n",
    "entry_fraud = df.loc[df.is_fraud == 1].sample(frac=0.3)\n",
    "data_set = pd.concat([data_set_testing,entry_fraud])\n",
    "#data_set.head()\n",
    "#len(df.index)\n",
    "test_user = shuffle(data_set)\n",
    "\n",
    "#data_set.to_csv('sample_data.csv',index=False)\n",
    "print(len(data_set.index))"
   ]
  },
  {
   "cell_type": "code",
   "execution_count": 20,
   "id": "d3773cb2-50b5-4ff6-bb38-26d44f34afab",
   "metadata": {},
   "outputs": [],
   "source": [
    "int_vars = ['suspicious_failure_rate','sus_banker_res','fail_3ds','suspicious_tm_trans','suspecious_credit_trans','sus_attempts_perday','sus_attempts_perday_high_amounts','sus_attempts_perday_high_sum','sus_attempts_perday_test_transactions','suspecious_card_usage',\n",
    "            'm_suspicious_failure_rate','m_sus_banker_res','m_fail_3ds','m_suspicious_tm_trans','m_suspecious_credit_trans','m_sus_attempts_perday','m_sus_attempts_perday_high_amounts','m_sus_attempts_perday_high_sum','m_sus_attempts_perday_test_transactions','m_suspecious_card_usage',\n",
    "            'w_suspicious_failure_rate','w_sus_banker_res','w_fail_3ds','w_suspicious_tm_trans','w_suspecious_credit_trans','w_sus_attempts_perday','w_sus_attempts_perday_high_amounts','w_sus_attempts_perday_high_sum','w_sus_attempts_perday_test_transactions','w_suspecious_card_usage']\n",
    "test_user.replace([np.inf, -np.inf], np.nan)\n",
    "test_user = test_user.fillna(0)\n",
    "test_user[int_vars] = test_user[int_vars].astype(int) "
   ]
  },
  {
   "cell_type": "code",
   "execution_count": 21,
   "id": "8d782464-4c4b-464f-9be6-d82360f057e7",
   "metadata": {},
   "outputs": [],
   "source": [
    "scaler = StandardScaler()\n",
    "#data_set.drop([\"payerAccNo\",\"unique_id\"], inplace=True, axis=1)\n",
    "#data_set.dropna(axis=1, how='all')\n",
    "#data_set.replace(np.inf, 0, inplace=True)\n",
    "#data_set.replace([np.inf, -np.inf], np.nan)\n",
    "test_user['createdAt']=pd.to_datetime(test_user.createdAt)\n",
    "test_user['createdAt'] = test_user.createdAt.values.astype(np.int64)\n",
    "test_user['transaction_date']=pd.to_datetime(test_user.transaction_date)\n",
    "test_user['transaction_time']=pd.to_datetime(test_user.transaction_time)\n",
    "test_user['transaction_date'] = test_user['transaction_date'].apply(lambda x: x.value)\n",
    "test_user['transaction_time'] = test_user['transaction_time'].apply(lambda x: x.value)\n",
    "\n",
    "cat_vars = ['funding_method','secure_3ds','success_3ds','status','type','currency','amount_high','suspicious_time','high_risk_credit_transaction','bank_approved','bank_err','bank_invalid_card','bank_insufficient_fund','bank_do_not_honor','bank_lost_card','channel_visa','channel_master','channel_amex',\n",
    "            'initialized_api','initialized_session','initialized_plugin','initialized_ext_api','initialized_ipg','is_fraud']\n",
    "\n",
    "#data_set[cat_vars] = data_set[cat_vars].astype(str) \n",
    "\n",
    "#avg_failed_amt,m_avg_failed_amt,w_avg_failed_amt\n",
    "con_vars = ['payerAccountNumber','payerIdTransformed','payeeIdTransformed','originalAmount','createdAt','transaction_date','transaction_time','issuer_bank','ip_address','browser',\n",
    "           'recency','frequency','total_value','merchant_frequency','secure_3ds_count','success_3ds_count','diff_brouser_count','success_count','one_time_count','lkr_trans','tot_amount_high','tot_suspiciout_tm_trans','tot_high_risk_credit_trans',\n",
    "            'tot_bank_approves','tot_bank_err','tot_invalid_card','tot_insufficient_fund','tot_bank_do_not_honor','tot_bank_lost_card','tot_success_amt',\n",
    "           'success_percent','avg_success_amt','tot_credit_card_trans',\n",
    "           'm_recency','m_frequency','m_total_value','m_merchant_frequency','m_secure_3ds_count','m_success_3ds_count','m_diff_brouser_count','m_success_count','m_one_time_count','m_lkr_trans','m_tot_amount_high','m_tot_suspiciout_tm_trans','m_tot_high_risk_credit_trans','m_tot_bank_approves','m_tot_bank_err','m_tot_invalid_card','m_tot_insufficient_fund',\n",
    "           'm_tot_bank_do_not_honor','m_tot_bank_lost_card','m_tot_success_amt','m_success_percent','m_avg_success_amt','m_tot_credit_card_trans', \n",
    "          'w_recency','w_frequency','w_total_value','w_merchant_frequency','w_secure_3ds_count','w_success_3ds_count','w_diff_brouser_count','w_success_count','w_one_time_count','w_lkr_trans','w_tot_amount_high','w_tot_suspiciout_tm_trans','w_tot_high_risk_credit_trans',\n",
    "          'w_tot_bank_approves','w_tot_bank_err','w_tot_invalid_card','w_tot_insufficient_fund','w_tot_bank_do_not_honor','w_tot_bank_lost_card','w_tot_success_amt','w_success_percent','w_avg_success_amt','w_tot_credit_card_trans',\n",
    "            \n",
    "            'final_critical_index']\n",
    "\n",
    "#data_set.fillna(data_set.mean(), inplace=True)\n",
    "\n",
    "#numeric_cols = list(data_set.dtypes[data_set.dtypes != 'object'].index)\n",
    "#data_set.loc[:,numeric_cols] = scaler.fit_transform(data_set.loc[:,numeric_cols])\n",
    "#data_set[numeric_cols]  =round(data_set[numeric_cols],10)\n",
    "\n",
    "test_user[con_vars]=scaler.fit_transform(test_user[con_vars])\n",
    "test_user[con_vars]  =round(test_user[con_vars],10)\n",
    "test_user_y = test_user.is_fraud\n",
    "test_user.drop([\"Unnamed: 0\",\"avg_failed_amt\",\"m_avg_failed_amt\",\"w_avg_failed_amt\",\"critical_index\",\"m_critical_index\",\"w_critical_index\",\"unique_id\",\"payerAccNo\",\"is_fraud\"], inplace=True, axis=1)\n",
    "test_user.to_csv('test_data_standerdize.csv',index=False)\n"
   ]
  },
  {
   "cell_type": "code",
   "execution_count": 22,
   "id": "23ad4c18-e27d-460e-ac75-41b586e5cd8f",
   "metadata": {},
   "outputs": [],
   "source": [
    "featuer_engineering_df = pd.read_csv('feature_engineering_filtered_standerdize.csv', delimiter=\",\")"
   ]
  },
  {
   "cell_type": "code",
   "execution_count": 23,
   "id": "ea953b55-2378-428c-bf3a-f96c99b73ca9",
   "metadata": {},
   "outputs": [],
   "source": [
    "X = featuer_engineering_df.drop(['is_fraud'],axis=1)\n",
    "y = featuer_engineering_df.is_fraud\n",
    "\n",
    "X_train, X_test, y_train, y_test = train_test_split(X, y, test_size=0.3, random_state=1)"
   ]
  },
  {
   "cell_type": "code",
   "execution_count": 24,
   "id": "abb9e83c-1c40-40d1-90f8-b667c5136821",
   "metadata": {},
   "outputs": [],
   "source": [
    "models = []\n",
    "models.append((\"XGB\",XGBClassifier(use_label_encoder=False,eval_metric='mlogloss')))"
   ]
  },
  {
   "cell_type": "code",
   "execution_count": 25,
   "id": "abde3861-38c6-4a85-9101-75bbc83ea0ac",
   "metadata": {},
   "outputs": [],
   "source": [
    "result_table = pd.DataFrame(columns=['classifiers', 'fpr','tpr','auc'])"
   ]
  },
  {
   "cell_type": "code",
   "execution_count": 26,
   "id": "ffe908aa-f4fe-4687-8161-4a22fd615ff0",
   "metadata": {},
   "outputs": [],
   "source": [
    "name=\"XGB\"\n",
    "model = XGBClassifier(use_label_encoder=False,eval_metric='mlogloss')"
   ]
  },
  {
   "cell_type": "code",
   "execution_count": 27,
   "id": "e7a94205-ab10-4bdd-b47f-ddb114e85ebd",
   "metadata": {},
   "outputs": [
    {
     "name": "stdout",
     "output_type": "stream",
     "text": [
      "XGBClassifier\n",
      "\n",
      "\n",
      "XGB [0.99760878 0.99749172 0.9978094 ]\n",
      "=== Mean Accuracy ===\n",
      "Mean Accuracy Score -:  0.997636633163892\n",
      "\n",
      "\n",
      "XGB [0.98518376 0.98858784 0.98458317]\n",
      "=== Mean AUC Score ===\n",
      "Mean AUC Score -:  0.9861182581309232\n",
      "\n",
      "\n",
      "=== Confusion Matrix ===\n",
      "[[1022    0]\n",
      " [ 212    0]]\n",
      "\n",
      "\n"
     ]
    },
    {
     "data": {
      "image/png": "[encoded data removed]",
      "text/plain": [
       "<Figure size 576x432 with 1 Axes>"
      ]
     },
     "metadata": {
      "needs_background": "light"
     },
     "output_type": "display_data"
    },
    {
     "name": "stdout",
     "output_type": "stream",
     "text": [
      "=== Classification Report ===\n",
      "              precision    recall  f1-score   support\n",
      "\n",
      "           0       0.83      1.00      0.91      1022\n",
      "           1       0.00      0.00      0.00       212\n",
      "\n",
      "    accuracy                           0.83      1234\n",
      "   macro avg       0.41      0.50      0.45      1234\n",
      "weighted avg       0.69      0.83      0.75      1234\n",
      "\n",
      "\n",
      "\n",
      "                                  feature  importance\n",
      "71              m_tot_suspiciout_tm_trans    0.110606\n",
      "37                tot_suspiciout_tm_trans    0.107060\n",
      "2                      payeeIdTransformed    0.095876\n",
      "56  sus_attempts_perday_test_transactions    0.034636\n",
      "34                         one_time_count    0.033054\n",
      "..                                    ...         ...\n",
      "92                m_suspecious_card_usage    0.000000\n",
      "96                   w_merchant_frequency    0.000000\n",
      "98                     w_secure_3ds_count    0.000000\n",
      "99                    w_success_3ds_count    0.000000\n",
      "64                     m_secure_3ds_count    0.000000\n",
      "\n",
      "[128 rows x 2 columns]\n"
     ]
    },
    {
     "name": "stderr",
     "output_type": "stream",
     "text": [
      "/Users/directpay/mambaforge/lib/python3.9/site-packages/sklearn/metrics/_classification.py:1248: UndefinedMetricWarning: Precision and F-score are ill-defined and being set to 0.0 in labels with no predicted samples. Use `zero_division` parameter to control this behavior.\n",
      "  _warn_prf(average, modifier, msg_start, len(result))\n",
      "/Users/directpay/mambaforge/lib/python3.9/site-packages/sklearn/metrics/_classification.py:1248: UndefinedMetricWarning: Precision and F-score are ill-defined and being set to 0.0 in labels with no predicted samples. Use `zero_division` parameter to control this behavior.\n",
      "  _warn_prf(average, modifier, msg_start, len(result))\n",
      "/Users/directpay/mambaforge/lib/python3.9/site-packages/sklearn/metrics/_classification.py:1248: UndefinedMetricWarning: Precision and F-score are ill-defined and being set to 0.0 in labels with no predicted samples. Use `zero_division` parameter to control this behavior.\n",
      "  _warn_prf(average, modifier, msg_start, len(result))\n"
     ]
    },
    {
     "ename": "ValueError",
     "evalue": "Found input variables with inconsistent numbers of samples: [1234, 76889]",
     "output_type": "error",
     "traceback": [
      "\u001b[0;31m---------------------------------------------------------------------------\u001b[0m",
      "\u001b[0;31mValueError\u001b[0m                                Traceback (most recent call last)",
      "\u001b[0;32m<ipython-input-27-2e4ba1a7db9b>\u001b[0m in \u001b[0;36m<module>\u001b[0;34m\u001b[0m\n\u001b[1;32m     54\u001b[0m \u001b[0;31m#fpr, tpr, thresholds = roc_curve(actual,  predict)\u001b[0m\u001b[0;34m\u001b[0m\u001b[0;34m\u001b[0m\u001b[0;34m\u001b[0m\u001b[0m\n\u001b[1;32m     55\u001b[0m \u001b[0;31m#roc_auc = auc(fpr, tpr)\u001b[0m\u001b[0;34m\u001b[0m\u001b[0;34m\u001b[0m\u001b[0;34m\u001b[0m\u001b[0m\n\u001b[0;32m---> 56\u001b[0;31m \u001b[0mfpr\u001b[0m\u001b[0;34m,\u001b[0m \u001b[0mtpr\u001b[0m\u001b[0;34m,\u001b[0m \u001b[0mthresholds\u001b[0m \u001b[0;34m=\u001b[0m \u001b[0mroc_curve\u001b[0m\u001b[0;34m(\u001b[0m\u001b[0mactual\u001b[0m\u001b[0;34m,\u001b[0m  \u001b[0mprobs\u001b[0m\u001b[0;34m)\u001b[0m\u001b[0;34m\u001b[0m\u001b[0;34m\u001b[0m\u001b[0m\n\u001b[0m\u001b[1;32m     57\u001b[0m \u001b[0mroc_auc\u001b[0m \u001b[0;34m=\u001b[0m \u001b[0mroc_auc_score\u001b[0m\u001b[0;34m(\u001b[0m\u001b[0mactual\u001b[0m\u001b[0;34m,\u001b[0m  \u001b[0mprobs\u001b[0m\u001b[0;34m)\u001b[0m\u001b[0;34m\u001b[0m\u001b[0;34m\u001b[0m\u001b[0m\n\u001b[1;32m     58\u001b[0m result_table = result_table.append({'classifiers':\"original - \"+model.__class__.__name__,\n",
      "\u001b[0;32m~/mambaforge/lib/python3.9/site-packages/sklearn/utils/validation.py\u001b[0m in \u001b[0;36minner_f\u001b[0;34m(*args, **kwargs)\u001b[0m\n\u001b[1;32m     61\u001b[0m             \u001b[0mextra_args\u001b[0m \u001b[0;34m=\u001b[0m \u001b[0mlen\u001b[0m\u001b[0;34m(\u001b[0m\u001b[0margs\u001b[0m\u001b[0;34m)\u001b[0m \u001b[0;34m-\u001b[0m \u001b[0mlen\u001b[0m\u001b[0;34m(\u001b[0m\u001b[0mall_args\u001b[0m\u001b[0;34m)\u001b[0m\u001b[0;34m\u001b[0m\u001b[0;34m\u001b[0m\u001b[0m\n\u001b[1;32m     62\u001b[0m             \u001b[0;32mif\u001b[0m \u001b[0mextra_args\u001b[0m \u001b[0;34m<=\u001b[0m \u001b[0;36m0\u001b[0m\u001b[0;34m:\u001b[0m\u001b[0;34m\u001b[0m\u001b[0;34m\u001b[0m\u001b[0m\n\u001b[0;32m---> 63\u001b[0;31m                 \u001b[0;32mreturn\u001b[0m \u001b[0mf\u001b[0m\u001b[0;34m(\u001b[0m\u001b[0;34m*\u001b[0m\u001b[0margs\u001b[0m\u001b[0;34m,\u001b[0m \u001b[0;34m**\u001b[0m\u001b[0mkwargs\u001b[0m\u001b[0;34m)\u001b[0m\u001b[0;34m\u001b[0m\u001b[0;34m\u001b[0m\u001b[0m\n\u001b[0m\u001b[1;32m     64\u001b[0m \u001b[0;34m\u001b[0m\u001b[0m\n\u001b[1;32m     65\u001b[0m             \u001b[0;31m# extra_args > 0\u001b[0m\u001b[0;34m\u001b[0m\u001b[0;34m\u001b[0m\u001b[0;34m\u001b[0m\u001b[0m\n",
      "\u001b[0;32m~/mambaforge/lib/python3.9/site-packages/sklearn/metrics/_ranking.py\u001b[0m in \u001b[0;36mroc_curve\u001b[0;34m(y_true, y_score, pos_label, sample_weight, drop_intermediate)\u001b[0m\n\u001b[1;32m    911\u001b[0m \u001b[0;34m\u001b[0m\u001b[0m\n\u001b[1;32m    912\u001b[0m     \"\"\"\n\u001b[0;32m--> 913\u001b[0;31m     fps, tps, thresholds = _binary_clf_curve(\n\u001b[0m\u001b[1;32m    914\u001b[0m         y_true, y_score, pos_label=pos_label, sample_weight=sample_weight)\n\u001b[1;32m    915\u001b[0m \u001b[0;34m\u001b[0m\u001b[0m\n",
      "\u001b[0;32m~/mambaforge/lib/python3.9/site-packages/sklearn/metrics/_ranking.py\u001b[0m in \u001b[0;36m_binary_clf_curve\u001b[0;34m(y_true, y_score, pos_label, sample_weight)\u001b[0m\n\u001b[1;32m    691\u001b[0m         \u001b[0;32mraise\u001b[0m \u001b[0mValueError\u001b[0m\u001b[0;34m(\u001b[0m\u001b[0;34m\"{0} format is not supported\"\u001b[0m\u001b[0;34m.\u001b[0m\u001b[0mformat\u001b[0m\u001b[0;34m(\u001b[0m\u001b[0my_type\u001b[0m\u001b[0;34m)\u001b[0m\u001b[0;34m)\u001b[0m\u001b[0;34m\u001b[0m\u001b[0;34m\u001b[0m\u001b[0m\n\u001b[1;32m    692\u001b[0m \u001b[0;34m\u001b[0m\u001b[0m\n\u001b[0;32m--> 693\u001b[0;31m     \u001b[0mcheck_consistent_length\u001b[0m\u001b[0;34m(\u001b[0m\u001b[0my_true\u001b[0m\u001b[0;34m,\u001b[0m \u001b[0my_score\u001b[0m\u001b[0;34m,\u001b[0m \u001b[0msample_weight\u001b[0m\u001b[0;34m)\u001b[0m\u001b[0;34m\u001b[0m\u001b[0;34m\u001b[0m\u001b[0m\n\u001b[0m\u001b[1;32m    694\u001b[0m     \u001b[0my_true\u001b[0m \u001b[0;34m=\u001b[0m \u001b[0mcolumn_or_1d\u001b[0m\u001b[0;34m(\u001b[0m\u001b[0my_true\u001b[0m\u001b[0;34m)\u001b[0m\u001b[0;34m\u001b[0m\u001b[0;34m\u001b[0m\u001b[0m\n\u001b[1;32m    695\u001b[0m     \u001b[0my_score\u001b[0m \u001b[0;34m=\u001b[0m \u001b[0mcolumn_or_1d\u001b[0m\u001b[0;34m(\u001b[0m\u001b[0my_score\u001b[0m\u001b[0;34m)\u001b[0m\u001b[0;34m\u001b[0m\u001b[0;34m\u001b[0m\u001b[0m\n",
      "\u001b[0;32m~/mambaforge/lib/python3.9/site-packages/sklearn/utils/validation.py\u001b[0m in \u001b[0;36mcheck_consistent_length\u001b[0;34m(*arrays)\u001b[0m\n\u001b[1;32m    317\u001b[0m     \u001b[0muniques\u001b[0m \u001b[0;34m=\u001b[0m \u001b[0mnp\u001b[0m\u001b[0;34m.\u001b[0m\u001b[0munique\u001b[0m\u001b[0;34m(\u001b[0m\u001b[0mlengths\u001b[0m\u001b[0;34m)\u001b[0m\u001b[0;34m\u001b[0m\u001b[0;34m\u001b[0m\u001b[0m\n\u001b[1;32m    318\u001b[0m     \u001b[0;32mif\u001b[0m \u001b[0mlen\u001b[0m\u001b[0;34m(\u001b[0m\u001b[0muniques\u001b[0m\u001b[0;34m)\u001b[0m \u001b[0;34m>\u001b[0m \u001b[0;36m1\u001b[0m\u001b[0;34m:\u001b[0m\u001b[0;34m\u001b[0m\u001b[0;34m\u001b[0m\u001b[0m\n\u001b[0;32m--> 319\u001b[0;31m         raise ValueError(\"Found input variables with inconsistent numbers of\"\n\u001b[0m\u001b[1;32m    320\u001b[0m                          \" samples: %r\" % [int(l) for l in lengths])\n\u001b[1;32m    321\u001b[0m \u001b[0;34m\u001b[0m\u001b[0m\n",
      "\u001b[0;31mValueError\u001b[0m: Found input variables with inconsistent numbers of samples: [1234, 76889]"
     ]
    }
   ],
   "source": [
    "kfold = KFold(n_splits=3, random_state=1,shuffle=True)\n",
    "cv_result = cross_val_score(model, X_train, y_train, cv = kfold, scoring = \"accuracy\")\n",
    "roc_auc_result = cross_val_score(model, X_train, y_train, cv = kfold, scoring = \"roc_auc\")\n",
    "print(model.__class__.__name__,)\n",
    "print('\\n')\n",
    "print(name, cv_result)\n",
    "print(\"=== Mean Accuracy ===\")\n",
    "print(\"Mean Accuracy Score -: \", cv_result.mean())\n",
    "print('\\n')\n",
    "print(name, roc_auc_result)\n",
    "print(\"=== Mean AUC Score ===\")\n",
    "print(\"Mean AUC Score -: \", roc_auc_result.mean())\n",
    "print('\\n')\n",
    "model.fit(X_train, y_train)\n",
    "# predictions\n",
    "#actual=y_test\n",
    "#predict = model.predict(X_test)\n",
    "actual=test_user_y\n",
    "predict=model.predict(test_user)\n",
    "    \n",
    "print(\"=== Confusion Matrix ===\")\n",
    "cm = confusion_matrix(actual,predict)\n",
    "print(cm)\n",
    "print('\\n')\n",
    "    \n",
    "plt.figure(figsize=(8,6))\n",
    "plt.clf()\n",
    "plt.imshow(cm, interpolation='nearest', cmap=plt.cm.Wistia)\n",
    "classNames = ['Negative','Positive']\n",
    "plt.title('Confusion Matrix',fontsize=15,fontweight='bold')\n",
    "plt.ylabel('True label',fontsize=15)\n",
    "plt.xlabel('Predicted label',fontsize=15)\n",
    "tick_marks = np.arange(len(classNames))\n",
    "plt.xticks(tick_marks, classNames, rotation=45,fontsize=15)\n",
    "plt.yticks(tick_marks, classNames,fontsize=15)\n",
    "s = [['TN','FP'], ['FN', 'TP']]\n",
    "for i in range(2):\n",
    "    for j in range(2):\n",
    "        plt.text(j,i, str(s[i][j])+\" = \"+str(cm[i][j]),horizontalalignment=\"center\",fontsize=15)\n",
    "plt.show()\n",
    "    \n",
    "print(\"=== Classification Report ===\")\n",
    "print(classification_report(actual,predict))\n",
    "print('\\n')\n",
    "    \n",
    "importances=model.feature_importances_\n",
    "fi = pd.DataFrame({'feature': list(X_train.columns),'importance': model.feature_importances_}).sort_values('importance', ascending = False)\n",
    " # Display\n",
    "print(fi)\n",
    "\n",
    "# Probabilities for each class\n",
    "probs = model.predict_proba(X_test)[::, 1]\n",
    "#auc = roc_auc_score(y_test, yproba)\n",
    "#fpr, tpr, thresholds = roc_curve(actual,  predict)\n",
    "#roc_auc = auc(fpr, tpr)\n",
    "fpr, tpr, thresholds = roc_curve(actual,  probs)\n",
    "roc_auc = roc_auc_score(actual,  probs)\n",
    "result_table = result_table.append({'classifiers':\"original - \"+model.__class__.__name__,\n",
    "                                    'fpr':fpr, \n",
    "                                    'tpr':tpr, \n",
    "                                    'auc':roc_auc}, ignore_index=True)\n",
    "result_table.set_index('classifiers', inplace=True)"
   ]
  },
  {
   "cell_type": "code",
   "execution_count": 12,
   "id": "fe4be5f8-2ad0-49c4-9c20-de1a8a4b8aca",
   "metadata": {},
   "outputs": [],
   "source": [
    "model_prediction = model.predict_proba(test_user)[::, 1]"
   ]
  },
  {
   "cell_type": "code",
   "execution_count": 13,
   "id": "5c2864aa-c81d-4b3e-9cdd-7083f5a73e98",
   "metadata": {},
   "outputs": [
    {
     "name": "stdout",
     "output_type": "stream",
     "text": [
      "[2.637751e-03 5.535949e-05]\n"
     ]
    }
   ],
   "source": [
    "print(model_prediction>0.5.astype)"
   ]
  },
  {
   "cell_type": "code",
   "execution_count": 14,
   "id": "e10b290c-deff-45b2-b1b2-346bd6ea3e57",
   "metadata": {},
   "outputs": [
    {
     "name": "stdout",
     "output_type": "stream",
     "text": [
      "[0 1]\n"
     ]
    }
   ],
   "source": [
    "print(model.classes_)"
   ]
  },
  {
   "cell_type": "code",
   "execution_count": 16,
   "id": "bdf0d471-a8a9-44e7-a6d8-87bb96874f3b",
   "metadata": {},
   "outputs": [
    {
     "ename": "AttributeError",
     "evalue": "'XGBClassifier' object has no attribute 'predict_classes'",
     "output_type": "error",
     "traceback": [
      "\u001b[0;31m---------------------------------------------------------------------------\u001b[0m",
      "\u001b[0;31mAttributeError\u001b[0m                            Traceback (most recent call last)",
      "\u001b[0;32m<ipython-input-16-02de9cb87255>\u001b[0m in \u001b[0;36m<module>\u001b[0;34m\u001b[0m\n\u001b[0;32m----> 1\u001b[0;31m \u001b[0mpredic_class\u001b[0m \u001b[0;34m=\u001b[0m \u001b[0mmodel\u001b[0m\u001b[0;34m.\u001b[0m\u001b[0mpredict_classes\u001b[0m\u001b[0;34m(\u001b[0m\u001b[0mtest_user\u001b[0m\u001b[0;34m)\u001b[0m\u001b[0;34m[\u001b[0m\u001b[0;34m:\u001b[0m\u001b[0;34m:\u001b[0m\u001b[0;34m,\u001b[0m \u001b[0;36m1\u001b[0m\u001b[0;34m]\u001b[0m\u001b[0;34m\u001b[0m\u001b[0;34m\u001b[0m\u001b[0m\n\u001b[0m",
      "\u001b[0;31mAttributeError\u001b[0m: 'XGBClassifier' object has no attribute 'predict_classes'"
     ]
    }
   ],
   "source": [
    "predic_class = model.predict_classes(test_user)[::, 1]"
   ]
  },
  {
   "cell_type": "code",
   "execution_count": null,
   "id": "afbd3b76-1605-4450-9220-94b023b44d43",
   "metadata": {},
   "outputs": [],
   "source": [
    "print(\"X=%s, Predicted=%s\" % (test_user, predic_class))"
   ]
  },
  {
   "cell_type": "code",
   "execution_count": 17,
   "id": "41cc2b4c-0095-408a-a974-9270387627eb",
   "metadata": {},
   "outputs": [
    {
     "ename": "AttributeError",
     "evalue": "'float' object has no attribute 'astype'",
     "output_type": "error",
     "traceback": [
      "\u001b[0;31m---------------------------------------------------------------------------\u001b[0m",
      "\u001b[0;31mAttributeError\u001b[0m                            Traceback (most recent call last)",
      "\u001b[0;32m<ipython-input-17-b717860845db>\u001b[0m in \u001b[0;36m<module>\u001b[0;34m\u001b[0m\n\u001b[0;32m----> 1\u001b[0;31m \u001b[0mprint\u001b[0m\u001b[0;34m(\u001b[0m\u001b[0mmodel\u001b[0m\u001b[0;34m.\u001b[0m\u001b[0mpredict\u001b[0m\u001b[0;34m>\u001b[0m\u001b[0;36m0.5\u001b[0m\u001b[0;34m.\u001b[0m\u001b[0mastype\u001b[0m\u001b[0;34m(\u001b[0m\u001b[0;34m'int32'\u001b[0m\u001b[0;34m)\u001b[0m\u001b[0;34m)\u001b[0m\u001b[0;34m\u001b[0m\u001b[0;34m\u001b[0m\u001b[0m\n\u001b[0m\u001b[1;32m      2\u001b[0m \u001b[0;34m\u001b[0m\u001b[0m\n",
      "\u001b[0;31mAttributeError\u001b[0m: 'float' object has no attribute 'astype'"
     ]
    }
   ],
   "source": [
    "print(model.predict>0.5.astype('int32'))\n",
    "\n"
   ]
  },
  {
   "cell_type": "code",
   "execution_count": null,
   "id": "497ff5b7-94fc-4bc3-89eb-3d183299a66d",
   "metadata": {},
   "outputs": [],
   "source": []
  }
 ],
 "metadata": {
  "kernelspec": {
   "display_name": "Python 3",
   "language": "python",
   "name": "python3"
  },
  "language_info": {
   "codemirror_mode": {
    "name": "ipython",
    "version": 3
   },
   "file_extension": ".py",
   "mimetype": "text/x-python",
   "name": "python",
   "nbconvert_exporter": "python",
   "pygments_lexer": "ipython3",
   "version": "3.9.4"
  }
 },
 "nbformat": 4,
 "nbformat_minor": 5
}
